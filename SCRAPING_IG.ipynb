{
  "nbformat": 4,
  "nbformat_minor": 0,
  "metadata": {
    "colab": {
      "provenance": [],
      "authorship_tag": "ABX9TyNcCd1OwtexCSItdr/ebrw8"
    },
    "kernelspec": {
      "name": "python3",
      "display_name": "Python 3"
    },
    "language_info": {
      "name": "python"
    }
  },
  "cells": [
    {
      "cell_type": "code",
      "execution_count": null,
      "metadata": {
        "id": "J3UZHMuCiW2b"
      },
      "outputs": [],
      "source": [
        "from instagrapi import Client\n",
        "import pandas as pd\n",
        "from datetime import datetime\n",
        "\n",
        "# Inisialisasi dan login ke akun Instagram\n",
        "cl = Client()\n",
        "username = 'ikhlssx'\n",
        "password = 'natasya23'\n",
        "cl.login(username, password)\n",
        "\n",
        "# Fungsi untuk mencari media berdasarkan hashtag\n",
        "def get_media_by_hashtag(hashtag, amount=10):\n",
        "    medias = cl.hashtag_medias_recent(hashtag, amount)\n",
        "    return medias\n",
        "\n",
        "# Fungsi untuk mendapatkan semua komentar dari sebuah postingan\n",
        "def get_all_comments(media):\n",
        "    comments = cl.media_comments(media.pk)\n",
        "    return comments\n",
        "\n",
        "# Daftar hashtag yang ingin dicari\n",
        "hashtags = ['xiaomi12indonesia', 'pocof4gt', 'realmegt2pro']\n",
        "\n",
        "# Jumlah postingan yang ingin diambil per hashtag (misal: 10)\n",
        "amount = 20\n",
        "\n",
        "# Mengambil komentar dari setiap media yang sudah diurutkan dan menyimpannya dalam list\n",
        "all_comments = []\n",
        "for hashtag in hashtags:\n",
        "    medias = get_media_by_hashtag(hashtag, amount)\n",
        "    for media in medias:\n",
        "        comments = get_all_comments(media)\n",
        "        for comment in comments:\n",
        "            comment_data = {\n",
        "                'Comment ID': comment.pk,\n",
        "                'User': comment.user.username,\n",
        "                'Text': comment.text,\n",
        "                'Created At (Processing Time)': datetime.now().strftime(\"%Y-%m-%d %H:%M:%S\"),  # Menandai waktu proses\n",
        "                #'Likes Count': getattr(comment, 'like_count', 'N/A')\n",
        "            }\n",
        "            all_comments.append(comment_data)\n",
        "\n",
        "# Membuat DataFrame dari list of comments\n",
        "df = pd.DataFrame(all_comments)\n",
        "\n",
        "# Menyimpan DataFrame ke dalam file CSV\n",
        "df.to_csv('comments.csv', index=False)\n",
        "\n",
        "print(\"Komentar telah disimpan ke dalam file comments.csv\")"
      ]
    }
  ]
}